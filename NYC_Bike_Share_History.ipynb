{
  "nbformat": 4,
  "nbformat_minor": 0,
  "metadata": {
    "colab": {
      "provenance": [],
      "authorship_tag": "ABX9TyM7Yvr7iN01yDkItpSNF0TN",
      "include_colab_link": true
    },
    "kernelspec": {
      "name": "python3",
      "display_name": "Python 3"
    },
    "language_info": {
      "name": "python"
    }
  },
  "cells": [
    {
      "cell_type": "markdown",
      "metadata": {
        "id": "view-in-github",
        "colab_type": "text"
      },
      "source": [
        "<a href=\"https://colab.research.google.com/github/BelloFaheedah/Big-Data-Analysis/blob/main/NYC_Bike_Share_History.ipynb\" target=\"_parent\"><img src=\"https://colab.research.google.com/assets/colab-badge.svg\" alt=\"Open In Colab\"/></a>"
      ]
    },
    {
      "cell_type": "markdown",
      "source": [
        "**NYC Bike Share Trip History**\n"
      ],
      "metadata": {
        "id": "eQEcZjsaZz79"
      }
    },
    {
      "cell_type": "markdown",
      "source": [
        "This task is based on the trips taken by customers from publicly available stations. The dataset includes the following columns:\n",
        "* Trip duration (seconds)\n",
        "* Start and end date and time\n",
        "* Start and end station name, ID, latitude, longitude\n",
        "* Bike ID\n",
        "* User type (“Customer” = 24-hour or 7-day pass user; “Subscriber” = annual member)\n",
        "* Gender (0=unknown; 1=male; 2=female)\n",
        "* Year of birth \n",
        "Source: NYC DOT https://www.nyc.gov/html/dot/downloads/misc/201401-citibike-tripdata.zip\n",
        "\n",
        "\n",
        "The research question for this task is: \"Riders ride longer on weekends than weekdays\" \n",
        "\n",
        "NB: The previously provided dataset will be merged with this current one."
      ],
      "metadata": {
        "id": "m3zBHn2VZ4gD"
      }
    },
    {
      "cell_type": "code",
      "source": [
        "#installing pyspark\n",
        "!pip install pyspark"
      ],
      "metadata": {
        "colab": {
          "base_uri": "https://localhost:8080/"
        },
        "id": "hSTDfAqzaC0T",
        "outputId": "c2e76d98-63ac-42ba-cb7a-a428f06ceeb1"
      },
      "execution_count": 1,
      "outputs": [
        {
          "output_type": "stream",
          "name": "stdout",
          "text": [
            "Looking in indexes: https://pypi.org/simple, https://us-python.pkg.dev/colab-wheels/public/simple/\n",
            "Collecting pyspark\n",
            "  Downloading pyspark-3.4.0.tar.gz (310.8 MB)\n",
            "\u001b[2K     \u001b[90m━━━━━━━━━━━━━━━━━━━━━━━━━━━━━━━━━━━━━━━\u001b[0m \u001b[32m310.8/310.8 MB\u001b[0m \u001b[31m2.7 MB/s\u001b[0m eta \u001b[36m0:00:00\u001b[0m\n",
            "\u001b[?25h  Preparing metadata (setup.py) ... \u001b[?25l\u001b[?25hdone\n",
            "Requirement already satisfied: py4j==0.10.9.7 in /usr/local/lib/python3.10/dist-packages (from pyspark) (0.10.9.7)\n",
            "Building wheels for collected packages: pyspark\n",
            "  Building wheel for pyspark (setup.py) ... \u001b[?25l\u001b[?25hdone\n",
            "  Created wheel for pyspark: filename=pyspark-3.4.0-py2.py3-none-any.whl size=311317130 sha256=6b58da0bebee39d997e0a7b775b3434c9f98ea93bddafd7f13358ea34f7212d9\n",
            "  Stored in directory: /root/.cache/pip/wheels/7b/1b/4b/3363a1d04368e7ff0d408e57ff57966fcdf00583774e761327\n",
            "Successfully built pyspark\n",
            "Installing collected packages: pyspark\n",
            "Successfully installed pyspark-3.4.0\n"
          ]
        }
      ]
    },
    {
      "cell_type": "code",
      "source": [
        "from pyspark.sql import SparkSession\n",
        "\n",
        "spark = SparkSession.builder \\\n",
        "    .appName(\"NYCDurationAnalysis\") \\\n",
        "    .getOrCreate()\n"
      ],
      "metadata": {
        "id": "S1bIPU0Wa338"
      },
      "execution_count": 2,
      "outputs": []
    },
    {
      "cell_type": "code",
      "source": [
        "!wget https://www.nyc.gov/html/dot/downloads/misc/201401-citibike-tripdata.zip\n",
        "!unzip 201401-citibike-tripdata.zip"
      ],
      "metadata": {
        "colab": {
          "base_uri": "https://localhost:8080/"
        },
        "id": "47jyeFFza_1N",
        "outputId": "e740b162-64c7-43ea-a3dd-74b7a4afd6aa"
      },
      "execution_count": 3,
      "outputs": [
        {
          "output_type": "stream",
          "name": "stdout",
          "text": [
            "--2023-05-24 15:41:25--  https://www.nyc.gov/html/dot/downloads/misc/201401-citibike-tripdata.zip\n",
            "Resolving www.nyc.gov (www.nyc.gov)... 23.62.89.179, 2600:1406:3c:383::1500, 2600:1406:3c:38e::1500\n",
            "Connecting to www.nyc.gov (www.nyc.gov)|23.62.89.179|:443... connected.\n",
            "HTTP request sent, awaiting response... 200 OK\n",
            "Length: 9697309 (9.2M) [application/zip]\n",
            "Saving to: ‘201401-citibike-tripdata.zip’\n",
            "\n",
            "201401-citibike-tri 100%[===================>]   9.25M  27.4MB/s    in 0.3s    \n",
            "\n",
            "2023-05-24 15:41:26 (27.4 MB/s) - ‘201401-citibike-tripdata.zip’ saved [9697309/9697309]\n",
            "\n",
            "Archive:  201401-citibike-tripdata.zip\n",
            "  inflating: 2014-01 - Citi Bike trip data.csv  \n"
          ]
        }
      ]
    },
    {
      "cell_type": "code",
      "source": [
        "#downloading and unzipping the dataset\n",
        "!wget https://cycling.data.tfl.gov.uk/usage-stats/cyclehireusagestats-2014.zip\n",
        "!unzip cyclehireusagestats-2014.zip\n"
      ],
      "metadata": {
        "colab": {
          "base_uri": "https://localhost:8080/"
        },
        "id": "wN1AMAcKbCD1",
        "outputId": "073fd43e-4f41-45e8-b238-4a6de7cc9656"
      },
      "execution_count": 5,
      "outputs": [
        {
          "output_type": "stream",
          "name": "stdout",
          "text": [
            "--2023-05-24 15:42:03--  https://cycling.data.tfl.gov.uk/usage-stats/cyclehireusagestats-2014.zip\n",
            "Resolving cycling.data.tfl.gov.uk (cycling.data.tfl.gov.uk)... 104.16.100.13, 104.16.101.13\n",
            "Connecting to cycling.data.tfl.gov.uk (cycling.data.tfl.gov.uk)|104.16.100.13|:443... connected.\n",
            "HTTP request sent, awaiting response... 200 OK\n",
            "Length: 225215129 (215M) [application/zip]\n",
            "Saving to: ‘cyclehireusagestats-2014.zip.1’\n",
            "\n",
            "cyclehireusagestats 100%[===================>] 214.78M   118MB/s    in 1.8s    \n",
            "\n",
            "2023-05-24 15:42:05 (118 MB/s) - ‘cyclehireusagestats-2014.zip.1’ saved [225215129/225215129]\n",
            "\n",
            "Archive:  cyclehireusagestats-2014.zip\n",
            "  inflating: 1. Journey Data Extract 05Jan14-02Feb14.csv  \n",
            "  inflating: 10a. Journey Data Extract 14Sep14-27Sep14.csv  \n",
            "  inflating: 10b. Journey Data Extract 28Sep14-11Oct14.csv  \n",
            "  inflating: 11a. Journey Data Extract 12Oct14-08Nov14.csv  \n",
            "  inflating: 11b. Journey Data Extract 12Oct14-08Nov14.csv  \n",
            "  inflating: 12a. Journey Data Extract 09Nov14-06Dec14.csv  \n",
            "  inflating: 12b. Journey Data Extract 09Nov14-06Dec14.csv  \n",
            "  inflating: 13a. Journey Data Extract 07Dec14-21Dec14.csv  \n",
            "  inflating: 13b. Journey Data Extract 22Dec14-03Jan15.csv  \n",
            "  inflating: 14. Journey Data Extract 08Dec13-04Jan14.csv  \n",
            "  inflating: 2. Journey Data Extract 03Feb14-01Mar14.csv  \n",
            "  inflating: 3. Journey Data Extract 02Mar14-31Mar14.csv  \n",
            "  inflating: 4. Journey Data Extract 01Apr14-26Apr14.csv  \n",
            "  inflating: 5. Journey Data Extract 27Apr14-24May14.csv  \n",
            "  inflating: 6. Journey Data Extract 25May14-21Jun14.csv  \n",
            "  inflating: 7. Journey Data Extract 22Jun14-19Jul14.csv  \n",
            "  inflating: 8a Journey Data Extract 20Jul14-31Jul14.csv  \n",
            "  inflating: 8b Journey Data Extract 01Aug14-16Aug14.csv  \n",
            "  inflating: 9a Journey Data Extract 17Aug14-31Aug14.csv  \n",
            "  inflating: 9b Journey Data Extract 01Sep14-13Sep14.csv  \n"
          ]
        }
      ]
    },
    {
      "cell_type": "code",
      "source": [
        "# checking out the directory path and the file names in the directory\n",
        "import os\n",
        "\n",
        "# Get the current directory path\n",
        "directory_path = os.getcwd()\n",
        "print(\"Directory Path:\", directory_path)\n",
        "\n",
        "# List all the files in the current directory\n",
        "file_names = os.listdir(directory_path)\n",
        "print(\"File Names:\", file_names)\n"
      ],
      "metadata": {
        "colab": {
          "base_uri": "https://localhost:8080/"
        },
        "id": "GoGByD0CbMDi",
        "outputId": "8d32cf13-2ee2-4562-e07b-8aff88416221"
      },
      "execution_count": 6,
      "outputs": [
        {
          "output_type": "stream",
          "name": "stdout",
          "text": [
            "Directory Path: /content\n",
            "File Names: ['.config', '11a. Journey Data Extract 12Oct14-08Nov14.csv', '12b. Journey Data Extract 09Nov14-06Dec14.csv', '13a. Journey Data Extract 07Dec14-21Dec14.csv', '201401-citibike-tripdata.zip', '1. Journey Data Extract 05Jan14-02Feb14.csv', '6. Journey Data Extract 25May14-21Jun14.csv', '4. Journey Data Extract 01Apr14-26Apr14.csv', '2. Journey Data Extract 03Feb14-01Mar14.csv', '10b. Journey Data Extract 28Sep14-11Oct14.csv', '8b Journey Data Extract 01Aug14-16Aug14.csv', '5. Journey Data Extract 27Apr14-24May14.csv', '14. Journey Data Extract 08Dec13-04Jan14.csv', 'cyclehireusagestats-2014.zip', '7. Journey Data Extract 22Jun14-19Jul14.csv', 'cyclehireusagestats-2014.zip.1', '10a. Journey Data Extract 14Sep14-27Sep14.csv', '12a. Journey Data Extract 09Nov14-06Dec14.csv', '9b Journey Data Extract 01Sep14-13Sep14.csv', '11b. Journey Data Extract 12Oct14-08Nov14.csv', '8a Journey Data Extract 20Jul14-31Jul14.csv', '2014-01 - Citi Bike trip data.csv', '9a Journey Data Extract 17Aug14-31Aug14.csv', '3. Journey Data Extract 02Mar14-31Mar14.csv', '13b. Journey Data Extract 22Dec14-03Jan15.csv', 'sample_data']\n"
          ]
        }
      ]
    },
    {
      "cell_type": "code",
      "source": [
        "#merging the dataset and \n",
        "from pyspark.sql import SparkSession\n",
        "from functools import reduce\n",
        "\n",
        "# Define the directory path where the files are located\n",
        "directory_path = \"/content\"  # Change this to the correct directory if needed\n",
        "\n",
        "# List all the files in the directory\n",
        "file_names = [\"8b Journey Data Extract 01Aug14-16Aug14.csv\",\n",
        "              \"2. Journey Data Extract 03Feb14-01Mar14.csv\",\n",
        "              \"9a Journey Data Extract 17Aug14-31Aug14.csv\",\n",
        "              \"6. Journey Data Extract 25May14-21Jun14.csv\",\n",
        "              \"1. Journey Data Extract 05Jan14-02Feb14.csv\",\n",
        "              \"3. Journey Data Extract 02Mar14-31Mar14.csv\",\n",
        "              \"8a Journey Data Extract 20Jul14-31Jul14.csv\",\n",
        "              \"4. Journey Data Extract 01Apr14-26Apr14.csv\",\n",
        "              \"cyclehireusagestats-2014.zip\",\n",
        "              \"12b. Journey Data Extract 09Nov14-06Dec14.csv\",\n",
        "              \"12a. Journey Data Extract 09Nov14-06Dec14.csv\",\n",
        "              \"14. Journey Data Extract 08Dec13-04Jan14.csv\",\n",
        "              \"10a. Journey Data Extract 14Sep14-27Sep14.csv\",\n",
        "              \"11b. Journey Data Extract 12Oct14-08Nov14.csv\",\n",
        "              \"7. Journey Data Extract 22Jun14-19Jul14.csv\",\n",
        "              \"11a. Journey Data Extract 12Oct14-08Nov14.csv\",\n",
        "              \"9b Journey Data Extract 01Sep14-13Sep14.csv\",\n",
        "              \"5. Journey Data Extract 27Apr14-24May14.csv\",\n",
        "              \"13a. Journey Data Extract 07Dec14-21Dec14.csv\",\n",
        "              \"10b. Journey Data Extract 28Sep14-11Oct14.csv\",\n",
        "              \"13b. Journey Data Extract 22Dec14-03Jan15.csv\",\n",
        "              \"sample_data\"]\n",
        "\n",
        "# Filter the file names based on the keyword\n",
        "csv_files = [file_name for file_name in file_names if \"Journey Data Extract\" in file_name]\n",
        "\n",
        "# Read each file and store them as separate DataFrames\n",
        "dataframes = []\n",
        "for file_name in csv_files:\n",
        "    file_path = f\"{directory_path}/{file_name}\"\n",
        "    df = spark.read.csv(file_path, header=True, inferSchema=True)\n",
        "    # Select only the common columns for merging\n",
        "    common_columns = [\"Rental Id\", \"Duration\", \"Bike Id\", \"End Date\", \"EndStation Id\", \"EndStation Name\",\n",
        "                      \"Start Date\", \"StartStation Id\", \"StartStation Name\"]\n",
        "    df = df.select(*common_columns)\n",
        "    dataframes.append(df)\n",
        "\n",
        "# Merge all DataFrames into a single DataFrame\n",
        "tfl_df = reduce(lambda df1, df2: df1.union(df2), dataframes)\n"
      ],
      "metadata": {
        "id": "iXko3zRabMdt"
      },
      "execution_count": 7,
      "outputs": []
    },
    {
      "cell_type": "code",
      "source": [
        "#reading the nyc data\n",
        "nyc = spark.read.csv('/content/2014-01 - Citi Bike trip data.csv', header=True, inferSchema=True)\n",
        "nyc.printSchema()\n"
      ],
      "metadata": {
        "colab": {
          "base_uri": "https://localhost:8080/"
        },
        "id": "CuCFAE9kbbh8",
        "outputId": "f1543f40-d5c3-4803-b244-23e7cc81e7e3"
      },
      "execution_count": 8,
      "outputs": [
        {
          "output_type": "stream",
          "name": "stdout",
          "text": [
            "root\n",
            " |-- tripduration: integer (nullable = true)\n",
            " |-- starttime: timestamp (nullable = true)\n",
            " |-- stoptime: timestamp (nullable = true)\n",
            " |-- start station id: integer (nullable = true)\n",
            " |-- start station name: string (nullable = true)\n",
            " |-- start station latitude: double (nullable = true)\n",
            " |-- start station longitude: double (nullable = true)\n",
            " |-- end station id: integer (nullable = true)\n",
            " |-- end station name: string (nullable = true)\n",
            " |-- end station latitude: double (nullable = true)\n",
            " |-- end station longitude: double (nullable = true)\n",
            " |-- bikeid: integer (nullable = true)\n",
            " |-- usertype: string (nullable = true)\n",
            " |-- birth year: string (nullable = true)\n",
            " |-- gender: integer (nullable = true)\n",
            "\n"
          ]
        }
      ]
    },
    {
      "cell_type": "code",
      "source": [
        "#renaming the columns to conform with that of tfl_df\n",
        "# Assuming df is the DataFrame and 'old_column_name' is the current column name\n",
        "nyc = nyc.withColumnRenamed('starttime', 'Start Date')\n",
        "nyc = nyc.withColumnRenamed('bikeid', 'Bike Id')\n",
        "nyc = nyc.withColumnRenamed('start station id', 'StartStation Id')\n",
        "nyc = nyc.withColumnRenamed('stoptime','End Date')\n",
        "nyc = nyc.withColumnRenamed('tripduration', 'Duration')\n",
        "nyc = nyc.withColumnRenamed('start station name', 'StartStation Name')\n",
        "nyc = nyc.withColumnRenamed('end station name', 'EndStation Name')\n",
        "nyc = nyc.withColumnRenamed('end station id', 'EndStation Id')\n",
        "nyc = nyc.withColumnRenamed('end station name', 'EndStation Name')\n",
        "\n",
        "\n",
        "    \n"
      ],
      "metadata": {
        "id": "ysG8lu3kbzVG"
      },
      "execution_count": 9,
      "outputs": []
    },
    {
      "cell_type": "code",
      "source": [
        "#dropping some of the unnecessary columns\n",
        "# Assuming df is the DataFrame and columns_to_drop is a list of column names to be dropped\n",
        "columns_to_drop = ['usertype', 'birth year', 'end station longitude','end station id', 'start station longitude',  'start station latitude', 'end station latitude','gender' ]\n",
        "\n",
        "# Drop the specified columns\n",
        "nyc_df = nyc.drop(*columns_to_drop)\n"
      ],
      "metadata": {
        "id": "oPjV4v_QcE1T"
      },
      "execution_count": 11,
      "outputs": []
    },
    {
      "cell_type": "code",
      "source": [
        "nyc_df.printSchema()"
      ],
      "metadata": {
        "colab": {
          "base_uri": "https://localhost:8080/"
        },
        "id": "KHWNLNRhcNcz",
        "outputId": "23454327-dc80-4288-ef25-5ea4f0eb7a4d"
      },
      "execution_count": 13,
      "outputs": [
        {
          "output_type": "stream",
          "name": "stdout",
          "text": [
            "root\n",
            " |-- Duration: integer (nullable = true)\n",
            " |-- Start Date: timestamp (nullable = true)\n",
            " |-- End Date: timestamp (nullable = true)\n",
            " |-- StartStation Id: integer (nullable = true)\n",
            " |-- StartStation Name: string (nullable = true)\n",
            " |-- EndStation Id: integer (nullable = true)\n",
            " |-- EndStation Name: string (nullable = true)\n",
            " |-- Bike Id: integer (nullable = true)\n",
            "\n"
          ]
        }
      ]
    },
    {
      "cell_type": "code",
      "source": [
        "tfl_df = tfl_df.drop('Rental Id')\n",
        "tfl_df.printSchema()"
      ],
      "metadata": {
        "colab": {
          "base_uri": "https://localhost:8080/"
        },
        "id": "SYBTBFnPcao9",
        "outputId": "d5770c0b-6429-4b6a-aba1-4b23232b03bd"
      },
      "execution_count": 14,
      "outputs": [
        {
          "output_type": "stream",
          "name": "stdout",
          "text": [
            "root\n",
            " |-- Duration: integer (nullable = true)\n",
            " |-- Bike Id: integer (nullable = true)\n",
            " |-- End Date: string (nullable = true)\n",
            " |-- EndStation Id: integer (nullable = true)\n",
            " |-- EndStation Name: string (nullable = true)\n",
            " |-- Start Date: string (nullable = true)\n",
            " |-- StartStation Id: integer (nullable = true)\n",
            " |-- StartStation Name: string (nullable = true)\n",
            "\n"
          ]
        }
      ]
    },
    {
      "cell_type": "code",
      "source": [
        "#aligning both dataset accordingly\n",
        "tfl_df_aligned =tfl_df.select('Duration', 'Bike Id', 'End Date', 'EndStation Id','EndStation Name', 'Start Date', 'StartStation Id', 'StartStation Name')\n",
        "nyc_data_aligned =nyc_df.select('Duration', 'Bike Id', 'End Date', 'EndStation Id','EndStation Name', 'Start Date', 'StartStation Id', 'StartStation Name')"
      ],
      "metadata": {
        "id": "VVt-jFUOckWe"
      },
      "execution_count": 15,
      "outputs": []
    },
    {
      "cell_type": "code",
      "source": [
        "# Convert the \"Start Date\" and \"End Date\" column to DateType in both datasets\n",
        "\n",
        "from pyspark.sql.functions import to_date, month, when\n",
        "\n",
        "tfl_df = tfl_df.withColumn(\"Start Date\", to_date(\"Start Date\", \"dd/MM/yyyy HH:mm\"))\n",
        "tfl_df = tfl_df.withColumn(\"End Date\", to_date(\"End Date\", \"dd/MM/yyyy HH:mm\"))\n",
        "nyc_df= nyc_df.withColumn(\"Start Date\", to_date(\"Start Date\", \"dd/MM/yyyy HH:mm\"))\n",
        "nyc_df= nyc_df.withColumn(\"End Date\", to_date(\"End Date\", \"dd/MM/yyyy HH:mm\"))"
      ],
      "metadata": {
        "id": "_c05m321czqQ"
      },
      "execution_count": 17,
      "outputs": []
    },
    {
      "cell_type": "code",
      "source": [
        "#joining both dataframes\n",
        "merged_df= nyc_data_aligned.union(tfl_df_aligned)\n",
        "merged_df.printSchema()"
      ],
      "metadata": {
        "colab": {
          "base_uri": "https://localhost:8080/"
        },
        "id": "OMdrPyMXbGMe",
        "outputId": "ae8d7072-3b82-4629-e669-848221f5d415"
      },
      "execution_count": 18,
      "outputs": [
        {
          "output_type": "stream",
          "name": "stdout",
          "text": [
            "root\n",
            " |-- Duration: integer (nullable = true)\n",
            " |-- Bike Id: integer (nullable = true)\n",
            " |-- End Date: string (nullable = true)\n",
            " |-- EndStation Id: integer (nullable = true)\n",
            " |-- EndStation Name: string (nullable = true)\n",
            " |-- Start Date: string (nullable = true)\n",
            " |-- StartStation Id: integer (nullable = true)\n",
            " |-- StartStation Name: string (nullable = true)\n",
            "\n"
          ]
        }
      ]
    },
    {
      "cell_type": "code",
      "source": [
        "merged_df.show()"
      ],
      "metadata": {
        "colab": {
          "base_uri": "https://localhost:8080/"
        },
        "id": "p4Fey04RdUNW",
        "outputId": "e327a7c5-5169-4512-b90d-8761daf6471d"
      },
      "execution_count": 19,
      "outputs": [
        {
          "output_type": "stream",
          "name": "stdout",
          "text": [
            "+--------+-------+-------------------+-------------+--------------------+-------------------+---------------+--------------------+\n",
            "|Duration|Bike Id|           End Date|EndStation Id|     EndStation Name|         Start Date|StartStation Id|   StartStation Name|\n",
            "+--------+-------+-------------------+-------------+--------------------+-------------------+---------------+--------------------+\n",
            "|     471|  16379|2014-01-01 00:07:57|          263|Elizabeth St & He...|2014-01-01 00:00:06|           2009|Catherine St & Mo...|\n",
            "|    1494|  15611|2014-01-01 00:25:32|          259|South St & Whiteh...|2014-01-01 00:00:38|            536|     1 Ave & E 30 St|\n",
            "|     464|  16613|2014-01-01 00:11:43|         2022| E 59 St & Sutton Pl|2014-01-01 00:03:59|            228|     E 48 St & 3 Ave|\n",
            "|     373|  15938|2014-01-01 00:11:28|          526|     E 33 St & 5 Ave|2014-01-01 00:05:15|            519|   Pershing Square N|\n",
            "|     660|  19830|2014-01-01 00:16:18|          436|Hancock St & Bedf...|2014-01-01 00:05:18|             83|Atlantic Ave & Fo...|\n",
            "|     330|  17343|2014-01-01 00:11:25|          526|     E 33 St & 5 Ave|2014-01-01 00:05:55|            422|    W 59 St & 10 Ave|\n",
            "|     261|  17880|2014-01-01 00:10:25|          167|     E 39 St & 3 Ave|2014-01-01 00:06:04|            516|     E 47 St & 1 Ave|\n",
            "|     337|  16275|2014-01-01 00:12:18|          435|     W 21 St & 6 Ave|2014-01-01 00:06:41|            380|    W 4 St & 7 Ave S|\n",
            "|     429|  17318|2014-01-01 00:14:42|          306|Cliff St & Fulton St|2014-01-01 00:07:33|            296|Division St & Bowery|\n",
            "|    1025|  15525|2014-01-01 00:25:32|          447|     8 Ave & W 52 St|2014-01-01 00:08:27|            540|Lexington Ave & E...|\n",
            "|     718|  15693|2014-01-01 00:21:30|          251| Mott St & Prince St|2014-01-01 00:09:32|            263|Elizabeth St & He...|\n",
            "|     786|  15281|2014-01-01 00:24:05|          290|     2 Ave & E 58 St|2014-01-01 00:10:59|            153|     E 40 St & 5 Ave|\n",
            "|     267|  15159|2014-01-01 00:15:44|          410|Suffolk St & Stan...|2014-01-01 00:11:17|            151|Cleveland Pl & Sp...|\n",
            "|     744|  15157|2014-01-01 00:24:47|          505|     6 Ave & W 33 St|2014-01-01 00:12:23|            450|     W 49 St & 8 Ave|\n",
            "|     704|  17080|2014-01-01 00:24:09|          195|Liberty St & Broa...|2014-01-01 00:12:25|            331| Pike St & Monroe St|\n",
            "|    1367|  20731|2014-01-01 00:35:34|          386|Centre St & Worth St|2014-01-01 00:12:47|            519|   Pershing Square N|\n",
            "|     327|  15655|2014-01-01 00:18:38|          411|   E 6 St & Avenue D|2014-01-01 00:13:11|            502| Henry St & Grand St|\n",
            "|     223|  15737|2014-01-01 00:19:13|          518|     E 39 St & 2 Ave|2014-01-01 00:15:30|            528|     2 Ave & E 31 St|\n",
            "|     577|  16115|2014-01-01 00:25:41|          270|Adelphi St & Myrt...|2014-01-01 00:16:04|            467|     Dean St & 4 Ave|\n",
            "|     566|  15753|2014-01-01 00:25:39|          270|Adelphi St & Myrt...|2014-01-01 00:16:13|            467|     Dean St & 4 Ave|\n",
            "+--------+-------+-------------------+-------------+--------------------+-------------------+---------------+--------------------+\n",
            "only showing top 20 rows\n",
            "\n"
          ]
        }
      ]
    },
    {
      "cell_type": "code",
      "source": [
        "merged_df.count()"
      ],
      "metadata": {
        "colab": {
          "base_uri": "https://localhost:8080/"
        },
        "id": "7cfWqZ52dx4e",
        "outputId": "2a395764-e0b2-49a5-bf11-07dc085e9f9a"
      },
      "execution_count": 20,
      "outputs": [
        {
          "output_type": "execute_result",
          "data": {
            "text/plain": [
              "11781996"
            ]
          },
          "metadata": {},
          "execution_count": 20
        }
      ]
    },
    {
      "cell_type": "code",
      "source": [
        "#dropping rows with missing values in columns Duration and Start Date\n",
        "merged_df.dropna(subset=[\"Start Date\", \"Duration\"])  \n",
        "merged_df.count()"
      ],
      "metadata": {
        "colab": {
          "base_uri": "https://localhost:8080/"
        },
        "id": "CAfnBLT2dYZ8",
        "outputId": "493288a7-128b-4d06-e79e-77972add6138"
      },
      "execution_count": 21,
      "outputs": [
        {
          "output_type": "execute_result",
          "data": {
            "text/plain": [
              "11781996"
            ]
          },
          "metadata": {},
          "execution_count": 21
        }
      ]
    },
    {
      "cell_type": "markdown",
      "source": [
        "The above result implies that there is no missing values in both columns"
      ],
      "metadata": {
        "id": "nSFat4T1ePv5"
      }
    },
    {
      "cell_type": "code",
      "source": [
        "from pyspark.sql.functions import dayofweek\n",
        "\n",
        "df = merged_df.withColumn(\"Day of Week\", dayofweek(merged_df[\"Start Date\"]))\n",
        "df.show()\n"
      ],
      "metadata": {
        "colab": {
          "base_uri": "https://localhost:8080/"
        },
        "id": "vv0ZPxOveIV2",
        "outputId": "06f2d19b-b719-4baa-f073-9563bfcf4d9d"
      },
      "execution_count": 23,
      "outputs": [
        {
          "output_type": "stream",
          "name": "stdout",
          "text": [
            "+--------+-------+-------------------+-------------+--------------------+-------------------+---------------+--------------------+-----------+\n",
            "|Duration|Bike Id|           End Date|EndStation Id|     EndStation Name|         Start Date|StartStation Id|   StartStation Name|Day of Week|\n",
            "+--------+-------+-------------------+-------------+--------------------+-------------------+---------------+--------------------+-----------+\n",
            "|     471|  16379|2014-01-01 00:07:57|          263|Elizabeth St & He...|2014-01-01 00:00:06|           2009|Catherine St & Mo...|          4|\n",
            "|    1494|  15611|2014-01-01 00:25:32|          259|South St & Whiteh...|2014-01-01 00:00:38|            536|     1 Ave & E 30 St|          4|\n",
            "|     464|  16613|2014-01-01 00:11:43|         2022| E 59 St & Sutton Pl|2014-01-01 00:03:59|            228|     E 48 St & 3 Ave|          4|\n",
            "|     373|  15938|2014-01-01 00:11:28|          526|     E 33 St & 5 Ave|2014-01-01 00:05:15|            519|   Pershing Square N|          4|\n",
            "|     660|  19830|2014-01-01 00:16:18|          436|Hancock St & Bedf...|2014-01-01 00:05:18|             83|Atlantic Ave & Fo...|          4|\n",
            "|     330|  17343|2014-01-01 00:11:25|          526|     E 33 St & 5 Ave|2014-01-01 00:05:55|            422|    W 59 St & 10 Ave|          4|\n",
            "|     261|  17880|2014-01-01 00:10:25|          167|     E 39 St & 3 Ave|2014-01-01 00:06:04|            516|     E 47 St & 1 Ave|          4|\n",
            "|     337|  16275|2014-01-01 00:12:18|          435|     W 21 St & 6 Ave|2014-01-01 00:06:41|            380|    W 4 St & 7 Ave S|          4|\n",
            "|     429|  17318|2014-01-01 00:14:42|          306|Cliff St & Fulton St|2014-01-01 00:07:33|            296|Division St & Bowery|          4|\n",
            "|    1025|  15525|2014-01-01 00:25:32|          447|     8 Ave & W 52 St|2014-01-01 00:08:27|            540|Lexington Ave & E...|          4|\n",
            "|     718|  15693|2014-01-01 00:21:30|          251| Mott St & Prince St|2014-01-01 00:09:32|            263|Elizabeth St & He...|          4|\n",
            "|     786|  15281|2014-01-01 00:24:05|          290|     2 Ave & E 58 St|2014-01-01 00:10:59|            153|     E 40 St & 5 Ave|          4|\n",
            "|     267|  15159|2014-01-01 00:15:44|          410|Suffolk St & Stan...|2014-01-01 00:11:17|            151|Cleveland Pl & Sp...|          4|\n",
            "|     744|  15157|2014-01-01 00:24:47|          505|     6 Ave & W 33 St|2014-01-01 00:12:23|            450|     W 49 St & 8 Ave|          4|\n",
            "|     704|  17080|2014-01-01 00:24:09|          195|Liberty St & Broa...|2014-01-01 00:12:25|            331| Pike St & Monroe St|          4|\n",
            "|    1367|  20731|2014-01-01 00:35:34|          386|Centre St & Worth St|2014-01-01 00:12:47|            519|   Pershing Square N|          4|\n",
            "|     327|  15655|2014-01-01 00:18:38|          411|   E 6 St & Avenue D|2014-01-01 00:13:11|            502| Henry St & Grand St|          4|\n",
            "|     223|  15737|2014-01-01 00:19:13|          518|     E 39 St & 2 Ave|2014-01-01 00:15:30|            528|     2 Ave & E 31 St|          4|\n",
            "|     577|  16115|2014-01-01 00:25:41|          270|Adelphi St & Myrt...|2014-01-01 00:16:04|            467|     Dean St & 4 Ave|          4|\n",
            "|     566|  15753|2014-01-01 00:25:39|          270|Adelphi St & Myrt...|2014-01-01 00:16:13|            467|     Dean St & 4 Ave|          4|\n",
            "+--------+-------+-------------------+-------------+--------------------+-------------------+---------------+--------------------+-----------+\n",
            "only showing top 20 rows\n",
            "\n"
          ]
        }
      ]
    },
    {
      "cell_type": "code",
      "source": [
        "#classifying the weekdays and weekends\n",
        "from pyspark.sql.functions import col\n",
        "from pyspark.sql.functions import when\n",
        "\n",
        "df = df.withColumn(\"Day Type\", when(col(\"Day of Week\").isin([2, 3, 4, 5, 6]), \"Weekday\").otherwise(\"Weekend\"))\n",
        "df.show()"
      ],
      "metadata": {
        "colab": {
          "base_uri": "https://localhost:8080/"
        },
        "id": "3chQrgZ4edLt",
        "outputId": "8e4ada06-afad-4f2f-e516-9c8ffbfefa1f"
      },
      "execution_count": 26,
      "outputs": [
        {
          "output_type": "stream",
          "name": "stdout",
          "text": [
            "+--------+-------+-------------------+-------------+--------------------+-------------------+---------------+--------------------+-----------+--------+\n",
            "|Duration|Bike Id|           End Date|EndStation Id|     EndStation Name|         Start Date|StartStation Id|   StartStation Name|Day of Week|Day Type|\n",
            "+--------+-------+-------------------+-------------+--------------------+-------------------+---------------+--------------------+-----------+--------+\n",
            "|     471|  16379|2014-01-01 00:07:57|          263|Elizabeth St & He...|2014-01-01 00:00:06|           2009|Catherine St & Mo...|          4| Weekday|\n",
            "|    1494|  15611|2014-01-01 00:25:32|          259|South St & Whiteh...|2014-01-01 00:00:38|            536|     1 Ave & E 30 St|          4| Weekday|\n",
            "|     464|  16613|2014-01-01 00:11:43|         2022| E 59 St & Sutton Pl|2014-01-01 00:03:59|            228|     E 48 St & 3 Ave|          4| Weekday|\n",
            "|     373|  15938|2014-01-01 00:11:28|          526|     E 33 St & 5 Ave|2014-01-01 00:05:15|            519|   Pershing Square N|          4| Weekday|\n",
            "|     660|  19830|2014-01-01 00:16:18|          436|Hancock St & Bedf...|2014-01-01 00:05:18|             83|Atlantic Ave & Fo...|          4| Weekday|\n",
            "|     330|  17343|2014-01-01 00:11:25|          526|     E 33 St & 5 Ave|2014-01-01 00:05:55|            422|    W 59 St & 10 Ave|          4| Weekday|\n",
            "|     261|  17880|2014-01-01 00:10:25|          167|     E 39 St & 3 Ave|2014-01-01 00:06:04|            516|     E 47 St & 1 Ave|          4| Weekday|\n",
            "|     337|  16275|2014-01-01 00:12:18|          435|     W 21 St & 6 Ave|2014-01-01 00:06:41|            380|    W 4 St & 7 Ave S|          4| Weekday|\n",
            "|     429|  17318|2014-01-01 00:14:42|          306|Cliff St & Fulton St|2014-01-01 00:07:33|            296|Division St & Bowery|          4| Weekday|\n",
            "|    1025|  15525|2014-01-01 00:25:32|          447|     8 Ave & W 52 St|2014-01-01 00:08:27|            540|Lexington Ave & E...|          4| Weekday|\n",
            "|     718|  15693|2014-01-01 00:21:30|          251| Mott St & Prince St|2014-01-01 00:09:32|            263|Elizabeth St & He...|          4| Weekday|\n",
            "|     786|  15281|2014-01-01 00:24:05|          290|     2 Ave & E 58 St|2014-01-01 00:10:59|            153|     E 40 St & 5 Ave|          4| Weekday|\n",
            "|     267|  15159|2014-01-01 00:15:44|          410|Suffolk St & Stan...|2014-01-01 00:11:17|            151|Cleveland Pl & Sp...|          4| Weekday|\n",
            "|     744|  15157|2014-01-01 00:24:47|          505|     6 Ave & W 33 St|2014-01-01 00:12:23|            450|     W 49 St & 8 Ave|          4| Weekday|\n",
            "|     704|  17080|2014-01-01 00:24:09|          195|Liberty St & Broa...|2014-01-01 00:12:25|            331| Pike St & Monroe St|          4| Weekday|\n",
            "|    1367|  20731|2014-01-01 00:35:34|          386|Centre St & Worth St|2014-01-01 00:12:47|            519|   Pershing Square N|          4| Weekday|\n",
            "|     327|  15655|2014-01-01 00:18:38|          411|   E 6 St & Avenue D|2014-01-01 00:13:11|            502| Henry St & Grand St|          4| Weekday|\n",
            "|     223|  15737|2014-01-01 00:19:13|          518|     E 39 St & 2 Ave|2014-01-01 00:15:30|            528|     2 Ave & E 31 St|          4| Weekday|\n",
            "|     577|  16115|2014-01-01 00:25:41|          270|Adelphi St & Myrt...|2014-01-01 00:16:04|            467|     Dean St & 4 Ave|          4| Weekday|\n",
            "|     566|  15753|2014-01-01 00:25:39|          270|Adelphi St & Myrt...|2014-01-01 00:16:13|            467|     Dean St & 4 Ave|          4| Weekday|\n",
            "+--------+-------+-------------------+-------------+--------------------+-------------------+---------------+--------------------+-----------+--------+\n",
            "only showing top 20 rows\n",
            "\n"
          ]
        }
      ]
    },
    {
      "cell_type": "code",
      "source": [
        "#filtering out the month January\n",
        "from pyspark.sql.functions import month\n",
        "\n",
        "df_january = df.filter(month(col(\"Start Date\")) == 1)\n",
        "df_january.show()\n"
      ],
      "metadata": {
        "colab": {
          "base_uri": "https://localhost:8080/"
        },
        "id": "BFeeOK_bfeDa",
        "outputId": "e7b70782-2d89-4036-87b8-6c2fdc69d513"
      },
      "execution_count": 28,
      "outputs": [
        {
          "output_type": "stream",
          "name": "stdout",
          "text": [
            "+--------+-------+-------------------+-------------+--------------------+-------------------+---------------+--------------------+-----------+--------+\n",
            "|Duration|Bike Id|           End Date|EndStation Id|     EndStation Name|         Start Date|StartStation Id|   StartStation Name|Day of Week|Day Type|\n",
            "+--------+-------+-------------------+-------------+--------------------+-------------------+---------------+--------------------+-----------+--------+\n",
            "|     471|  16379|2014-01-01 00:07:57|          263|Elizabeth St & He...|2014-01-01 00:00:06|           2009|Catherine St & Mo...|          4| Weekday|\n",
            "|    1494|  15611|2014-01-01 00:25:32|          259|South St & Whiteh...|2014-01-01 00:00:38|            536|     1 Ave & E 30 St|          4| Weekday|\n",
            "|     464|  16613|2014-01-01 00:11:43|         2022| E 59 St & Sutton Pl|2014-01-01 00:03:59|            228|     E 48 St & 3 Ave|          4| Weekday|\n",
            "|     373|  15938|2014-01-01 00:11:28|          526|     E 33 St & 5 Ave|2014-01-01 00:05:15|            519|   Pershing Square N|          4| Weekday|\n",
            "|     660|  19830|2014-01-01 00:16:18|          436|Hancock St & Bedf...|2014-01-01 00:05:18|             83|Atlantic Ave & Fo...|          4| Weekday|\n",
            "|     330|  17343|2014-01-01 00:11:25|          526|     E 33 St & 5 Ave|2014-01-01 00:05:55|            422|    W 59 St & 10 Ave|          4| Weekday|\n",
            "|     261|  17880|2014-01-01 00:10:25|          167|     E 39 St & 3 Ave|2014-01-01 00:06:04|            516|     E 47 St & 1 Ave|          4| Weekday|\n",
            "|     337|  16275|2014-01-01 00:12:18|          435|     W 21 St & 6 Ave|2014-01-01 00:06:41|            380|    W 4 St & 7 Ave S|          4| Weekday|\n",
            "|     429|  17318|2014-01-01 00:14:42|          306|Cliff St & Fulton St|2014-01-01 00:07:33|            296|Division St & Bowery|          4| Weekday|\n",
            "|    1025|  15525|2014-01-01 00:25:32|          447|     8 Ave & W 52 St|2014-01-01 00:08:27|            540|Lexington Ave & E...|          4| Weekday|\n",
            "|     718|  15693|2014-01-01 00:21:30|          251| Mott St & Prince St|2014-01-01 00:09:32|            263|Elizabeth St & He...|          4| Weekday|\n",
            "|     786|  15281|2014-01-01 00:24:05|          290|     2 Ave & E 58 St|2014-01-01 00:10:59|            153|     E 40 St & 5 Ave|          4| Weekday|\n",
            "|     267|  15159|2014-01-01 00:15:44|          410|Suffolk St & Stan...|2014-01-01 00:11:17|            151|Cleveland Pl & Sp...|          4| Weekday|\n",
            "|     744|  15157|2014-01-01 00:24:47|          505|     6 Ave & W 33 St|2014-01-01 00:12:23|            450|     W 49 St & 8 Ave|          4| Weekday|\n",
            "|     704|  17080|2014-01-01 00:24:09|          195|Liberty St & Broa...|2014-01-01 00:12:25|            331| Pike St & Monroe St|          4| Weekday|\n",
            "|    1367|  20731|2014-01-01 00:35:34|          386|Centre St & Worth St|2014-01-01 00:12:47|            519|   Pershing Square N|          4| Weekday|\n",
            "|     327|  15655|2014-01-01 00:18:38|          411|   E 6 St & Avenue D|2014-01-01 00:13:11|            502| Henry St & Grand St|          4| Weekday|\n",
            "|     223|  15737|2014-01-01 00:19:13|          518|     E 39 St & 2 Ave|2014-01-01 00:15:30|            528|     2 Ave & E 31 St|          4| Weekday|\n",
            "|     577|  16115|2014-01-01 00:25:41|          270|Adelphi St & Myrt...|2014-01-01 00:16:04|            467|     Dean St & 4 Ave|          4| Weekday|\n",
            "|     566|  15753|2014-01-01 00:25:39|          270|Adelphi St & Myrt...|2014-01-01 00:16:13|            467|     Dean St & 4 Ave|          4| Weekday|\n",
            "+--------+-------+-------------------+-------------+--------------------+-------------------+---------------+--------------------+-----------+--------+\n",
            "only showing top 20 rows\n",
            "\n"
          ]
        }
      ]
    },
    {
      "cell_type": "code",
      "source": [
        "df_january.count()"
      ],
      "metadata": {
        "colab": {
          "base_uri": "https://localhost:8080/"
        },
        "id": "JjNoVMrGfsZq",
        "outputId": "300e8a6a-dbc1-485c-e345-a980893fdeab"
      },
      "execution_count": 29,
      "outputs": [
        {
          "output_type": "execute_result",
          "data": {
            "text/plain": [
              "300400"
            ]
          },
          "metadata": {},
          "execution_count": 29
        }
      ]
    },
    {
      "cell_type": "code",
      "source": [
        "#Calculating the averge duration for weekdays and weekends separately:\n",
        "\n",
        "from pyspark.sql.functions import avg\n",
        "\n",
        "result = df_january.groupBy(\"Day Type\").agg(avg(\"Duration\").alias(\"Average Duration\"))\n",
        "result.show()\n"
      ],
      "metadata": {
        "colab": {
          "base_uri": "https://localhost:8080/"
        },
        "id": "YmfsagcSfyIy",
        "outputId": "e8c81e5a-bffb-42f0-b35a-446c4b969fd4"
      },
      "execution_count": 47,
      "outputs": [
        {
          "output_type": "stream",
          "name": "stdout",
          "text": [
            "+--------+-----------------+\n",
            "|Day Type| Average Duration|\n",
            "+--------+-----------------+\n",
            "| Weekday|722.5834680483034|\n",
            "| Weekend|787.1593535231478|\n",
            "+--------+-----------------+\n",
            "\n"
          ]
        }
      ]
    },
    {
      "cell_type": "code",
      "source": [
        "#visualizing the result\n",
        "#visualizing the result of the total duration for weekday weekend\n",
        "import matplotlib.pyplot as plt\n",
        "\n",
        "# Convert the season_duration DataFrame to Pandas DataFrame\n",
        "result_pandas = result.toPandas()\n",
        "\n",
        "# Plot the bar chart\n",
        "plt.bar(result_pandas[\"Day Type\"], result_pandas[\"Average Duration\"])\n",
        "plt.xlabel(\"Day Type\")\n",
        "plt.ylabel(\"Average Duration\")\n",
        "plt.title(\"Average Duration by Day Type\")\n",
        "plt.show()"
      ],
      "metadata": {
        "colab": {
          "base_uri": "https://localhost:8080/",
          "height": 472
        },
        "id": "VoeoE-_QgeYe",
        "outputId": "38ddc3bb-d6e8-452f-d2af-5a7bd2f59bfe"
      },
      "execution_count": 48,
      "outputs": [
        {
          "output_type": "display_data",
          "data": {
            "text/plain": [
              "<Figure size 640x480 with 1 Axes>"
            ],
            "image/png": "[encoded data removed]"
          },
          "metadata": {}
        }
      ]
    },
    {
      "cell_type": "markdown",
      "source": [
        "Statistical analysis"
      ],
      "metadata": {
        "id": "eik9h2rzhcaT"
      }
    },
    {
      "cell_type": "code",
      "source": [
        "#Splitting the dataset into separate DataFrames for weekdays and weekends:\n",
        "\n",
        "df_weekdays = df_january.filter(col(\"Day Type\") == \"Weekday\")\n",
        "df_weekends = df_january.filter(col(\"Day Type\") == \"Weekend\")\n"
      ],
      "metadata": {
        "id": "LHSG9VJghBXd"
      },
      "execution_count": 32,
      "outputs": []
    },
    {
      "cell_type": "code",
      "source": [
        "print(df_weekdays.count())\n",
        "print(df_weekends.count())"
      ],
      "metadata": {
        "colab": {
          "base_uri": "https://localhost:8080/"
        },
        "id": "nBDpvOrSndy-",
        "outputId": "6b0ec6f4-03e3-4b43-e833-7126499d0035"
      },
      "execution_count": 46,
      "outputs": [
        {
          "output_type": "stream",
          "name": "stdout",
          "text": [
            "247436\n",
            "52964\n"
          ]
        }
      ]
    },
    {
      "cell_type": "code",
      "source": [
        "#Calculating the mean duration for weekdays and weekends:\n",
        "from pyspark.sql.functions import avg\n",
        "\n",
        "mean_weekdays = df_weekdays.select(avg(\"Duration\")).first()[0]\n",
        "mean_weekends = df_weekends.select(avg(\"Duration\")).first()[0]\n"
      ],
      "metadata": {
        "id": "vQUasHfsholl"
      },
      "execution_count": 33,
      "outputs": []
    },
    {
      "cell_type": "code",
      "source": [
        "print(mean_weekdays)\n",
        "print(mean_weekends)\n"
      ],
      "metadata": {
        "colab": {
          "base_uri": "https://localhost:8080/"
        },
        "id": "i1kMEYMxm3ci",
        "outputId": "deb65849-2450-4593-931f-ddecb4d93fc0"
      },
      "execution_count": 44,
      "outputs": [
        {
          "output_type": "stream",
          "name": "stdout",
          "text": [
            "722.5834680483034\n",
            "787.1593535231478\n"
          ]
        }
      ]
    },
    {
      "cell_type": "code",
      "source": [
        "#Calculating the standard deviation for weekdays and weekends:\n",
        "from pyspark.sql.functions import stddev\n",
        "\n",
        "stddev_weekdays = df_weekdays.select(stddev(\"Duration\")).first()[0]\n",
        "stddev_weekends = df_weekends.select(stddev(\"Duration\")).first()[0]\n"
      ],
      "metadata": {
        "id": "jw6ByYmThzbK"
      },
      "execution_count": 34,
      "outputs": []
    },
    {
      "cell_type": "code",
      "source": [
        "print(stddev_weekdays)\n",
        "print(stddev_weekends)\n"
      ],
      "metadata": {
        "colab": {
          "base_uri": "https://localhost:8080/"
        },
        "id": "WbKAqtnWktyo",
        "outputId": "9da7cb3e-780c-41c1-811f-9b72a1372215"
      },
      "execution_count": 39,
      "outputs": [
        {
          "output_type": "stream",
          "name": "stdout",
          "text": [
            "5269.030187717514\n",
            "5282.543622591171\n"
          ]
        }
      ]
    },
    {
      "cell_type": "code",
      "source": [
        "#Performing the t-test using the means and standard deviations:\n",
        "\n",
        "from scipy.stats import ttest_ind\n",
        "\n",
        "t_statistic, p_value = ttest_ind(df_weekdays.select(\"Duration\").rdd.flatMap(lambda x: x).collect(),\n",
        "                                 df_weekends.select(\"Duration\").rdd.flatMap(lambda x: x).collect(),\n",
        "                                 alternative='less',\n",
        "                                 equal_var=False)\n",
        "\n"
      ],
      "metadata": {
        "id": "ao3RpSLTiCNq"
      },
      "execution_count": 42,
      "outputs": []
    },
    {
      "cell_type": "code",
      "source": [
        "print(t_statistic)\n",
        "print(p_value)"
      ],
      "metadata": {
        "colab": {
          "base_uri": "https://localhost:8080/"
        },
        "id": "CaLBPHakisAj",
        "outputId": "bf5af387-078c-4217-b2de-073122e8d26f"
      },
      "execution_count": 43,
      "outputs": [
        {
          "output_type": "stream",
          "name": "stdout",
          "text": [
            "-2.554435034338438\n",
            "0.005318965025789005\n"
          ]
        }
      ]
    },
    {
      "cell_type": "markdown",
      "source": [
        "**Decision Making**\n",
        "\n",
        "*Null Hypothesis (H0)*: The average duration of bike rides on weekends is equal to or shorter than the average duration on weekdays in January.\n",
        "\n",
        "*Alternative Hypothesis (H1)*: The average duration of bike rides on weekends is longer than the average duration on weekdays in January.\n",
        "\n",
        "**Decision Rule**\n",
        "\n",
        "If the p-value is less than the significance level (e.g., 0.05), it suggests that there is a significant difference in the mean durations between weekdays and weekends in January.\n",
        "If the p-value is greater than the significance level, it indicates that there is not enough evidence to conclude a significant difference.\n",
        "\n",
        "**Conclusion**\n",
        "\n",
        "Since the p-value is less than 0.05 (i.e. 0.00532 < 0.05), the null hypothesis is rejected and thus, the conclusion is that **The average duration of bike rides on weekends is longer than the average duration of bike rides on weekdays**"
      ],
      "metadata": {
        "id": "Ohcpaa1Nia1n"
      }
    }
  ]
}