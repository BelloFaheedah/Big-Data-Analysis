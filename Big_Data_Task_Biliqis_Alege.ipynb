{
  "nbformat": 4,
  "nbformat_minor": 0,
  "metadata": {
    "colab": {
      "provenance": [],
      "authorship_tag": "ABX9TyNQFuBI5V1RuADb3ohEMWtB",
      "include_colab_link": true
    },
    "kernelspec": {
      "name": "python3",
      "display_name": "Python 3"
    },
    "language_info": {
      "name": "python"
    }
  },
  "cells": [
    {
      "cell_type": "markdown",
      "metadata": {
        "id": "view-in-github",
        "colab_type": "text"
      },
      "source": [
        "<a href=\"https://colab.research.google.com/github/BelloFaheedah/Big-Data-Analysis/blob/main/Big_Data_Task_Biliqis_Alege.ipynb\" target=\"_parent\"><img src=\"https://colab.research.google.com/assets/colab-badge.svg\" alt=\"Open In Colab\"/></a>"
      ]
    },
    {
      "cell_type": "markdown",
      "source": [
        "**Cycle Hire Usage in London in 2014**"
      ],
      "metadata": {
        "id": "a4fTuWv1vCkW"
      }
    },
    {
      "cell_type": "markdown",
      "source": [
        "This is a big data problem that will be solved using spark in python (pyspark) on Google Colab. The task in this notebook involves performing a statistical analysis on the cycle hire usage in London in 2014. The research hypothesis is: \"In 2014, people ride for longer in autumn than in spring\" The provided dataset is on transport for london (Tfl) downloadable from https://cycling.data.tfl.gov.uk/usage-stats/cyclehireusagestats-2014.zip ."
      ],
      "metadata": {
        "id": "mDMwyuFdva-F"
      }
    },
    {
      "cell_type": "code",
      "source": [
        "#installing pyspark\n",
        "!pip install pyspark"
      ],
      "metadata": {
        "colab": {
          "base_uri": "https://localhost:8080/"
        },
        "id": "aPKJpLTryEh7",
        "outputId": "0b93a1c2-9fc9-4c79-e484-2385edbf2730"
      },
      "execution_count": 2,
      "outputs": [
        {
          "output_type": "stream",
          "name": "stdout",
          "text": [
            "Looking in indexes: https://pypi.org/simple, https://us-python.pkg.dev/colab-wheels/public/simple/\n",
            "Collecting pyspark\n",
            "  Downloading pyspark-3.4.0.tar.gz (310.8 MB)\n",
            "\u001b[2K     \u001b[90m━━━━━━━━━━━━━━━━━━━━━━━━━━━━━━━━━━━━━━━\u001b[0m \u001b[32m310.8/310.8 MB\u001b[0m \u001b[31m4.5 MB/s\u001b[0m eta \u001b[36m0:00:00\u001b[0m\n",
            "\u001b[?25h  Preparing metadata (setup.py) ... \u001b[?25l\u001b[?25hdone\n",
            "Requirement already satisfied: py4j==0.10.9.7 in /usr/local/lib/python3.10/dist-packages (from pyspark) (0.10.9.7)\n",
            "Building wheels for collected packages: pyspark\n",
            "  Building wheel for pyspark (setup.py) ... \u001b[?25l\u001b[?25hdone\n",
            "  Created wheel for pyspark: filename=pyspark-3.4.0-py2.py3-none-any.whl size=311317130 sha256=297139089ca8bc7efa5477ad8d4e540dd50ac90c5f45e30f1c8c98eb0abb778a\n",
            "  Stored in directory: /root/.cache/pip/wheels/7b/1b/4b/3363a1d04368e7ff0d408e57ff57966fcdf00583774e761327\n",
            "Successfully built pyspark\n",
            "Installing collected packages: pyspark\n",
            "Successfully installed pyspark-3.4.0\n"
          ]
        }
      ]
    },
    {
      "cell_type": "code",
      "source": [
        "from pyspark.sql import SparkSession\n",
        "\n",
        "spark = SparkSession.builder \\\n",
        "    .appName(\"TflBikeRideDurationAnalys\") \\\n",
        "    .getOrCreate()\n"
      ],
      "metadata": {
        "id": "Ux2e9k3yyPZE"
      },
      "execution_count": 3,
      "outputs": []
    },
    {
      "cell_type": "code",
      "source": [
        "#downloading and unzipping the dataset\n",
        "!wget https://cycling.data.tfl.gov.uk/usage-stats/cyclehireusagestats-2014.zip\n",
        "!unzip cyclehireusagestats-2014.zip\n"
      ],
      "metadata": {
        "colab": {
          "base_uri": "https://localhost:8080/"
        },
        "id": "P49q0iLFyU2O",
        "outputId": "86a86586-2abf-46a9-8412-00042c54ac35"
      },
      "execution_count": 4,
      "outputs": [
        {
          "output_type": "stream",
          "name": "stdout",
          "text": [
            "--2023-05-22 06:38:36--  https://cycling.data.tfl.gov.uk/usage-stats/cyclehireusagestats-2014.zip\n",
            "Resolving cycling.data.tfl.gov.uk (cycling.data.tfl.gov.uk)... 104.16.100.13, 104.16.101.13\n",
            "Connecting to cycling.data.tfl.gov.uk (cycling.data.tfl.gov.uk)|104.16.100.13|:443... connected.\n",
            "HTTP request sent, awaiting response... 200 OK\n",
            "Length: 225215129 (215M) [application/zip]\n",
            "Saving to: ‘cyclehireusagestats-2014.zip’\n",
            "\n",
            "cyclehireusagestats 100%[===================>] 214.78M   197MB/s    in 1.1s    \n",
            "\n",
            "2023-05-22 06:38:38 (197 MB/s) - ‘cyclehireusagestats-2014.zip’ saved [225215129/225215129]\n",
            "\n",
            "Archive:  cyclehireusagestats-2014.zip\n",
            "  inflating: 1. Journey Data Extract 05Jan14-02Feb14.csv  \n",
            "  inflating: 10a. Journey Data Extract 14Sep14-27Sep14.csv  \n",
            "  inflating: 10b. Journey Data Extract 28Sep14-11Oct14.csv  \n",
            "  inflating: 11a. Journey Data Extract 12Oct14-08Nov14.csv  \n",
            "  inflating: 11b. Journey Data Extract 12Oct14-08Nov14.csv  \n",
            "  inflating: 12a. Journey Data Extract 09Nov14-06Dec14.csv  \n",
            "  inflating: 12b. Journey Data Extract 09Nov14-06Dec14.csv  \n",
            "  inflating: 13a. Journey Data Extract 07Dec14-21Dec14.csv  \n",
            "  inflating: 13b. Journey Data Extract 22Dec14-03Jan15.csv  \n",
            "  inflating: 14. Journey Data Extract 08Dec13-04Jan14.csv  \n",
            "  inflating: 2. Journey Data Extract 03Feb14-01Mar14.csv  \n",
            "  inflating: 3. Journey Data Extract 02Mar14-31Mar14.csv  \n",
            "  inflating: 4. Journey Data Extract 01Apr14-26Apr14.csv  \n",
            "  inflating: 5. Journey Data Extract 27Apr14-24May14.csv  \n",
            "  inflating: 6. Journey Data Extract 25May14-21Jun14.csv  \n",
            "  inflating: 7. Journey Data Extract 22Jun14-19Jul14.csv  \n",
            "  inflating: 8a Journey Data Extract 20Jul14-31Jul14.csv  \n",
            "  inflating: 8b Journey Data Extract 01Aug14-16Aug14.csv  \n",
            "  inflating: 9a Journey Data Extract 17Aug14-31Aug14.csv  \n",
            "  inflating: 9b Journey Data Extract 01Sep14-13Sep14.csv  \n"
          ]
        }
      ]
    },
    {
      "cell_type": "code",
      "source": [
        "# checking out the directory path and the file names in the directory\n",
        "import os\n",
        "\n",
        "# Get the current directory path\n",
        "directory_path = os.getcwd()\n",
        "print(\"Directory Path:\", directory_path)\n",
        "\n",
        "# List all the files in the current directory\n",
        "file_names = os.listdir(directory_path)\n",
        "print(\"File Names:\", file_names)\n"
      ],
      "metadata": {
        "colab": {
          "base_uri": "https://localhost:8080/"
        },
        "id": "0Hfbhj99ygL3",
        "outputId": "d3470fa7-6c21-4b9b-bf87-d6c1330a7869"
      },
      "execution_count": 5,
      "outputs": [
        {
          "output_type": "stream",
          "name": "stdout",
          "text": [
            "Directory Path: /content\n",
            "File Names: ['.config', '8b Journey Data Extract 01Aug14-16Aug14.csv', '2. Journey Data Extract 03Feb14-01Mar14.csv', '9a Journey Data Extract 17Aug14-31Aug14.csv', '6. Journey Data Extract 25May14-21Jun14.csv', '1. Journey Data Extract 05Jan14-02Feb14.csv', '3. Journey Data Extract 02Mar14-31Mar14.csv', '8a Journey Data Extract 20Jul14-31Jul14.csv', '4. Journey Data Extract 01Apr14-26Apr14.csv', 'cyclehireusagestats-2014.zip', '12b. Journey Data Extract 09Nov14-06Dec14.csv', '12a. Journey Data Extract 09Nov14-06Dec14.csv', '14. Journey Data Extract 08Dec13-04Jan14.csv', '10a. Journey Data Extract 14Sep14-27Sep14.csv', '11b. Journey Data Extract 12Oct14-08Nov14.csv', '7. Journey Data Extract 22Jun14-19Jul14.csv', '11a. Journey Data Extract 12Oct14-08Nov14.csv', '9b Journey Data Extract 01Sep14-13Sep14.csv', '5. Journey Data Extract 27Apr14-24May14.csv', '13a. Journey Data Extract 07Dec14-21Dec14.csv', '10b. Journey Data Extract 28Sep14-11Oct14.csv', '13b. Journey Data Extract 22Dec14-03Jan15.csv', 'sample_data']\n"
          ]
        }
      ]
    },
    {
      "cell_type": "code",
      "source": [
        "#merging the dataset and \n",
        "from pyspark.sql import SparkSession\n",
        "from functools import reduce\n",
        "\n",
        "# Define the directory path where the files are located\n",
        "directory_path = \"/content\"  # Change this to the correct directory if needed\n",
        "\n",
        "# List all the files in the directory\n",
        "file_names = [\"8b Journey Data Extract 01Aug14-16Aug14.csv\",\n",
        "              \"2. Journey Data Extract 03Feb14-01Mar14.csv\",\n",
        "              \"9a Journey Data Extract 17Aug14-31Aug14.csv\",\n",
        "              \"6. Journey Data Extract 25May14-21Jun14.csv\",\n",
        "              \"1. Journey Data Extract 05Jan14-02Feb14.csv\",\n",
        "              \"3. Journey Data Extract 02Mar14-31Mar14.csv\",\n",
        "              \"8a Journey Data Extract 20Jul14-31Jul14.csv\",\n",
        "              \"4. Journey Data Extract 01Apr14-26Apr14.csv\",\n",
        "              \"cyclehireusagestats-2014.zip\",\n",
        "              \"12b. Journey Data Extract 09Nov14-06Dec14.csv\",\n",
        "              \"12a. Journey Data Extract 09Nov14-06Dec14.csv\",\n",
        "              \"14. Journey Data Extract 08Dec13-04Jan14.csv\",\n",
        "              \"10a. Journey Data Extract 14Sep14-27Sep14.csv\",\n",
        "              \"11b. Journey Data Extract 12Oct14-08Nov14.csv\",\n",
        "              \"7. Journey Data Extract 22Jun14-19Jul14.csv\",\n",
        "              \"11a. Journey Data Extract 12Oct14-08Nov14.csv\",\n",
        "              \"9b Journey Data Extract 01Sep14-13Sep14.csv\",\n",
        "              \"5. Journey Data Extract 27Apr14-24May14.csv\",\n",
        "              \"13a. Journey Data Extract 07Dec14-21Dec14.csv\",\n",
        "              \"10b. Journey Data Extract 28Sep14-11Oct14.csv\",\n",
        "              \"13b. Journey Data Extract 22Dec14-03Jan15.csv\",\n",
        "              \"sample_data\"]\n",
        "\n",
        "# Filter the file names based on the keyword\n",
        "csv_files = [file_name for file_name in file_names if \"Journey Data Extract\" in file_name]\n",
        "\n",
        "# Read each file and store them as separate DataFrames\n",
        "dataframes = []\n",
        "for file_name in csv_files:\n",
        "    file_path = f\"{directory_path}/{file_name}\"\n",
        "    df = spark.read.csv(file_path, header=True, inferSchema=True)\n",
        "    # Select only the common columns for merging\n",
        "    common_columns = [\"Rental Id\", \"Duration\", \"Bike Id\", \"End Date\", \"EndStation Id\", \"EndStation Name\",\n",
        "                      \"Start Date\", \"StartStation Id\", \"StartStation Name\"]\n",
        "    df = df.select(*common_columns)\n",
        "    dataframes.append(df)\n",
        "\n",
        "# Merge all DataFrames into a single DataFrame\n",
        "merged_df = reduce(lambda df1, df2: df1.union(df2), dataframes)\n"
      ],
      "metadata": {
        "id": "c3AUzFMpzJMM"
      },
      "execution_count": 6,
      "outputs": []
    },
    {
      "cell_type": "code",
      "source": [
        "#checking out the total number of records in the merged data\n",
        "merged_df.count()"
      ],
      "metadata": {
        "colab": {
          "base_uri": "https://localhost:8080/"
        },
        "id": "xAzpHNChzqH-",
        "outputId": "b50940c9-c18e-4224-eda6-0bde20b356ff"
      },
      "execution_count": 7,
      "outputs": [
        {
          "output_type": "execute_result",
          "data": {
            "text/plain": [
              "11481596"
            ]
          },
          "metadata": {},
          "execution_count": 7
        }
      ]
    },
    {
      "cell_type": "code",
      "source": [
        "#displaying a few of the records\n",
        "merged_df.show()"
      ],
      "metadata": {
        "colab": {
          "base_uri": "https://localhost:8080/"
        },
        "id": "IZJ4vesgz_1P",
        "outputId": "d518f78a-f4d3-40cb-d0b9-e72561d3fc40"
      },
      "execution_count": 8,
      "outputs": [
        {
          "output_type": "stream",
          "name": "stdout",
          "text": [
            "+---------+--------+-------+----------------+-------------+--------------------+----------------+---------------+--------------------+\n",
            "|Rental Id|Duration|Bike Id|        End Date|EndStation Id|     EndStation Name|      Start Date|StartStation Id|   StartStation Name|\n",
            "+---------+--------+-------+----------------+-------------+--------------------+----------------+---------------+--------------------+\n",
            "| 35815795|    1860|    939|02/08/2014 15:39|          695|Islington Green, ...|02/08/2014 15:08|              6|Broadcasting Hous...|\n",
            "| 36165956|     960|   1055|11/08/2014 00:55|           75|Torrens Street, A...|11/08/2014 00:39|            311|Foley Street, Fit...|\n",
            "| 36371711|    1140|   5202|16/08/2014 17:28|          533|Wellington Row, B...|16/08/2014 17:09|            695|Islington Green, ...|\n",
            "| 36376079|     480|   7274|16/08/2014 18:17|          140|Finsbury Square ,...|16/08/2014 18:09|            390|Buxton Street 1, ...|\n",
            "| 36352322|    2100|   1248|16/08/2014 13:26|          254|Chadwell Street, ...|16/08/2014 12:51|            430|South Parade, Che...|\n",
            "| 36060593|     780|   1978|08/08/2014 08:57|          529|Manresa Road, Che...|08/08/2014 08:44|            617|Elysium Place, Fu...|\n",
            "| 35914946|     660|  12710|04/08/2014 18:49|          199|Great Tower Stree...|04/08/2014 18:38|            272|Baylis Road, Wate...|\n",
            "| 35762910|     600|  10053|01/08/2014 09:00|          272|Baylis Road, Wate...|01/08/2014 08:50|            199|Great Tower Stree...|\n",
            "| 35783362|     600|  11140|01/08/2014 17:49|          199|Great Tower Stree...|01/08/2014 17:39|            272|Baylis Road, Wate...|\n",
            "| 35887497|     780|   5746|04/08/2014 08:34|          272|Baylis Road, Wate...|04/08/2014 08:21|            199|Great Tower Stree...|\n",
            "| 35888394|    1140|  11055|04/08/2014 08:51|          375|Kensington Town H...|04/08/2014 08:32|            158|Trebovir Road, Ea...|\n",
            "| 35817376|    4560|   2521|02/08/2014 16:51|           37|Penywern Road, Ea...|02/08/2014 15:35|            145|Ilchester Place, ...|\n",
            "| 35811017|     600|   3604|02/08/2014 13:52|          145|Ilchester Place, ...|02/08/2014 13:42|            158|Trebovir Road, Ea...|\n",
            "| 35931509|    1020|   7183|05/08/2014 08:57|          375|Kensington Town H...|05/08/2014 08:40|            158|Trebovir Road, Ea...|\n",
            "| 35979572|     240|   6604|06/08/2014 12:02|          375|Kensington Town H...|06/08/2014 11:58|            398|Holland Park, Ken...|\n",
            "| 36242250|    1980|   8999|13/08/2014 09:06|          375|Kensington Town H...|13/08/2014 08:33|            158|Trebovir Road, Ea...|\n",
            "| 36283211|     960|   8301|14/08/2014 09:06|          375|Kensington Town H...|14/08/2014 08:50|            158|Trebovir Road, Ea...|\n",
            "| 36301387|     600|    812|14/08/2014 20:22|          158|Trebovir Road, Ea...|14/08/2014 20:12|            687|Maclise Road, Oly...|\n",
            "| 36206781|    1080|   4200|12/08/2014 09:02|          375|Kensington Town H...|12/08/2014 08:44|            158|Trebovir Road, Ea...|\n",
            "| 36091126|    8820|   7966|09/08/2014 10:30|            2|Phillimore Garden...|09/08/2014 08:03|            158|Trebovir Road, Ea...|\n",
            "+---------+--------+-------+----------------+-------------+--------------------+----------------+---------------+--------------------+\n",
            "only showing top 20 rows\n",
            "\n"
          ]
        }
      ]
    },
    {
      "cell_type": "code",
      "source": [
        "# checking the data types of each column\n",
        "merged_df.printSchema"
      ],
      "metadata": {
        "colab": {
          "base_uri": "https://localhost:8080/"
        },
        "id": "T8HSQ0fd0NXy",
        "outputId": "f98c7297-ebee-4cf7-cb03-c4bc2009ae10"
      },
      "execution_count": 9,
      "outputs": [
        {
          "output_type": "execute_result",
          "data": {
            "text/plain": [
              "<bound method DataFrame.printSchema of DataFrame[Rental Id: int, Duration: int, Bike Id: int, End Date: string, EndStation Id: int, EndStation Name: string, Start Date: string, StartStation Id: int, StartStation Name: string]>"
            ]
          },
          "metadata": {},
          "execution_count": 9
        }
      ]
    },
    {
      "cell_type": "code",
      "source": [
        "# changing the column \"Start Date\" to date type (from being a string previously)\n",
        "from pyspark.sql.functions import to_date, month, when\n",
        "\n",
        "# Convert the \"Start Date\" column to DateType\n",
        "merged_df = merged_df.withColumn(\"Start Date\", to_date(\"Start Date\", \"dd/MM/yyyy HH:mm\"))\n"
      ],
      "metadata": {
        "id": "JlSdUIxe0fCL"
      },
      "execution_count": 10,
      "outputs": []
    },
    {
      "cell_type": "code",
      "source": [
        "#creating an addititonal column that displays the month number of each start date\n",
        "# Add a new column \"Month\" based on the month of the \"Start Date\" column\n",
        "merged_df = merged_df.withColumn(\"Month\", month(\"Start Date\"))\n",
        "merged_df.show()"
      ],
      "metadata": {
        "colab": {
          "base_uri": "https://localhost:8080/"
        },
        "id": "J_DC_oB_1cvg",
        "outputId": "455cf775-18c4-43dd-bb34-ddb4e923eea9"
      },
      "execution_count": 11,
      "outputs": [
        {
          "output_type": "stream",
          "name": "stdout",
          "text": [
            "+---------+--------+-------+----------------+-------------+--------------------+----------+---------------+--------------------+-----+\n",
            "|Rental Id|Duration|Bike Id|        End Date|EndStation Id|     EndStation Name|Start Date|StartStation Id|   StartStation Name|Month|\n",
            "+---------+--------+-------+----------------+-------------+--------------------+----------+---------------+--------------------+-----+\n",
            "| 35815795|    1860|    939|02/08/2014 15:39|          695|Islington Green, ...|2014-08-02|              6|Broadcasting Hous...|    8|\n",
            "| 36165956|     960|   1055|11/08/2014 00:55|           75|Torrens Street, A...|2014-08-11|            311|Foley Street, Fit...|    8|\n",
            "| 36371711|    1140|   5202|16/08/2014 17:28|          533|Wellington Row, B...|2014-08-16|            695|Islington Green, ...|    8|\n",
            "| 36376079|     480|   7274|16/08/2014 18:17|          140|Finsbury Square ,...|2014-08-16|            390|Buxton Street 1, ...|    8|\n",
            "| 36352322|    2100|   1248|16/08/2014 13:26|          254|Chadwell Street, ...|2014-08-16|            430|South Parade, Che...|    8|\n",
            "| 36060593|     780|   1978|08/08/2014 08:57|          529|Manresa Road, Che...|2014-08-08|            617|Elysium Place, Fu...|    8|\n",
            "| 35914946|     660|  12710|04/08/2014 18:49|          199|Great Tower Stree...|2014-08-04|            272|Baylis Road, Wate...|    8|\n",
            "| 35762910|     600|  10053|01/08/2014 09:00|          272|Baylis Road, Wate...|2014-08-01|            199|Great Tower Stree...|    8|\n",
            "| 35783362|     600|  11140|01/08/2014 17:49|          199|Great Tower Stree...|2014-08-01|            272|Baylis Road, Wate...|    8|\n",
            "| 35887497|     780|   5746|04/08/2014 08:34|          272|Baylis Road, Wate...|2014-08-04|            199|Great Tower Stree...|    8|\n",
            "| 35888394|    1140|  11055|04/08/2014 08:51|          375|Kensington Town H...|2014-08-04|            158|Trebovir Road, Ea...|    8|\n",
            "| 35817376|    4560|   2521|02/08/2014 16:51|           37|Penywern Road, Ea...|2014-08-02|            145|Ilchester Place, ...|    8|\n",
            "| 35811017|     600|   3604|02/08/2014 13:52|          145|Ilchester Place, ...|2014-08-02|            158|Trebovir Road, Ea...|    8|\n",
            "| 35931509|    1020|   7183|05/08/2014 08:57|          375|Kensington Town H...|2014-08-05|            158|Trebovir Road, Ea...|    8|\n",
            "| 35979572|     240|   6604|06/08/2014 12:02|          375|Kensington Town H...|2014-08-06|            398|Holland Park, Ken...|    8|\n",
            "| 36242250|    1980|   8999|13/08/2014 09:06|          375|Kensington Town H...|2014-08-13|            158|Trebovir Road, Ea...|    8|\n",
            "| 36283211|     960|   8301|14/08/2014 09:06|          375|Kensington Town H...|2014-08-14|            158|Trebovir Road, Ea...|    8|\n",
            "| 36301387|     600|    812|14/08/2014 20:22|          158|Trebovir Road, Ea...|2014-08-14|            687|Maclise Road, Oly...|    8|\n",
            "| 36206781|    1080|   4200|12/08/2014 09:02|          375|Kensington Town H...|2014-08-12|            158|Trebovir Road, Ea...|    8|\n",
            "| 36091126|    8820|   7966|09/08/2014 10:30|            2|Phillimore Garden...|2014-08-09|            158|Trebovir Road, Ea...|    8|\n",
            "+---------+--------+-------+----------------+-------------+--------------------+----------+---------------+--------------------+-----+\n",
            "only showing top 20 rows\n",
            "\n"
          ]
        }
      ]
    },
    {
      "cell_type": "code",
      "source": [
        "#creating a new column \"Season\" that displays the corresponding season based on the start date \n",
        "\n",
        "merged_df = merged_df.withColumn(\"Season\",\n",
        "                                 when(merged_df[\"Month\"].between(3, 5), \"Spring\")\n",
        "                                 .when(merged_df[\"Month\"].between(6, 8), \"Summer\")\n",
        "                                 .when(merged_df[\"Month\"].between(9, 11), \"Autumn\")\n",
        "                                 .otherwise(\"Winter\"))\n",
        "\n",
        "merged_df.show()"
      ],
      "metadata": {
        "colab": {
          "base_uri": "https://localhost:8080/"
        },
        "id": "HAdp0a152HlB",
        "outputId": "574b6680-d792-4b11-bbe2-ae0ef8f2e2dd"
      },
      "execution_count": 12,
      "outputs": [
        {
          "output_type": "stream",
          "name": "stdout",
          "text": [
            "+---------+--------+-------+----------------+-------------+--------------------+----------+---------------+--------------------+-----+------+\n",
            "|Rental Id|Duration|Bike Id|        End Date|EndStation Id|     EndStation Name|Start Date|StartStation Id|   StartStation Name|Month|Season|\n",
            "+---------+--------+-------+----------------+-------------+--------------------+----------+---------------+--------------------+-----+------+\n",
            "| 35815795|    1860|    939|02/08/2014 15:39|          695|Islington Green, ...|2014-08-02|              6|Broadcasting Hous...|    8|Summer|\n",
            "| 36165956|     960|   1055|11/08/2014 00:55|           75|Torrens Street, A...|2014-08-11|            311|Foley Street, Fit...|    8|Summer|\n",
            "| 36371711|    1140|   5202|16/08/2014 17:28|          533|Wellington Row, B...|2014-08-16|            695|Islington Green, ...|    8|Summer|\n",
            "| 36376079|     480|   7274|16/08/2014 18:17|          140|Finsbury Square ,...|2014-08-16|            390|Buxton Street 1, ...|    8|Summer|\n",
            "| 36352322|    2100|   1248|16/08/2014 13:26|          254|Chadwell Street, ...|2014-08-16|            430|South Parade, Che...|    8|Summer|\n",
            "| 36060593|     780|   1978|08/08/2014 08:57|          529|Manresa Road, Che...|2014-08-08|            617|Elysium Place, Fu...|    8|Summer|\n",
            "| 35914946|     660|  12710|04/08/2014 18:49|          199|Great Tower Stree...|2014-08-04|            272|Baylis Road, Wate...|    8|Summer|\n",
            "| 35762910|     600|  10053|01/08/2014 09:00|          272|Baylis Road, Wate...|2014-08-01|            199|Great Tower Stree...|    8|Summer|\n",
            "| 35783362|     600|  11140|01/08/2014 17:49|          199|Great Tower Stree...|2014-08-01|            272|Baylis Road, Wate...|    8|Summer|\n",
            "| 35887497|     780|   5746|04/08/2014 08:34|          272|Baylis Road, Wate...|2014-08-04|            199|Great Tower Stree...|    8|Summer|\n",
            "| 35888394|    1140|  11055|04/08/2014 08:51|          375|Kensington Town H...|2014-08-04|            158|Trebovir Road, Ea...|    8|Summer|\n",
            "| 35817376|    4560|   2521|02/08/2014 16:51|           37|Penywern Road, Ea...|2014-08-02|            145|Ilchester Place, ...|    8|Summer|\n",
            "| 35811017|     600|   3604|02/08/2014 13:52|          145|Ilchester Place, ...|2014-08-02|            158|Trebovir Road, Ea...|    8|Summer|\n",
            "| 35931509|    1020|   7183|05/08/2014 08:57|          375|Kensington Town H...|2014-08-05|            158|Trebovir Road, Ea...|    8|Summer|\n",
            "| 35979572|     240|   6604|06/08/2014 12:02|          375|Kensington Town H...|2014-08-06|            398|Holland Park, Ken...|    8|Summer|\n",
            "| 36242250|    1980|   8999|13/08/2014 09:06|          375|Kensington Town H...|2014-08-13|            158|Trebovir Road, Ea...|    8|Summer|\n",
            "| 36283211|     960|   8301|14/08/2014 09:06|          375|Kensington Town H...|2014-08-14|            158|Trebovir Road, Ea...|    8|Summer|\n",
            "| 36301387|     600|    812|14/08/2014 20:22|          158|Trebovir Road, Ea...|2014-08-14|            687|Maclise Road, Oly...|    8|Summer|\n",
            "| 36206781|    1080|   4200|12/08/2014 09:02|          375|Kensington Town H...|2014-08-12|            158|Trebovir Road, Ea...|    8|Summer|\n",
            "| 36091126|    8820|   7966|09/08/2014 10:30|            2|Phillimore Garden...|2014-08-09|            158|Trebovir Road, Ea...|    8|Summer|\n",
            "+---------+--------+-------+----------------+-------------+--------------------+----------+---------------+--------------------+-----+------+\n",
            "only showing top 20 rows\n",
            "\n"
          ]
        }
      ]
    },
    {
      "cell_type": "code",
      "source": [
        "#confirming the unique values in the column season (finding out the different seasons included in the dataset)\n",
        "merged_df.select(\"Season\").distinct().show()\n"
      ],
      "metadata": {
        "colab": {
          "base_uri": "https://localhost:8080/"
        },
        "id": "U07sUHC02p18",
        "outputId": "bd3e504a-2c8b-4b10-d3be-3090e2d5dda5"
      },
      "execution_count": 13,
      "outputs": [
        {
          "output_type": "stream",
          "name": "stdout",
          "text": [
            "+------+\n",
            "|Season|\n",
            "+------+\n",
            "|Summer|\n",
            "|Spring|\n",
            "|Winter|\n",
            "|Autumn|\n",
            "+------+\n",
            "\n"
          ]
        }
      ]
    },
    {
      "cell_type": "code",
      "source": [
        "# Group by the \"Season\" column and count the number of records in each season\n",
        "season_counts = merged_df.groupBy(\"Season\").count()\n",
        "\n",
        "# Display the season counts\n",
        "season_counts.show()\n"
      ],
      "metadata": {
        "colab": {
          "base_uri": "https://localhost:8080/"
        },
        "id": "kupHp4fN3AhZ",
        "outputId": "56ced280-e80e-4f54-dca7-458045396f68"
      },
      "execution_count": 14,
      "outputs": [
        {
          "output_type": "stream",
          "name": "stdout",
          "text": [
            "+------+-------+\n",
            "|Season|  count|\n",
            "+------+-------+\n",
            "|Summer|3244317|\n",
            "|Spring|2424933|\n",
            "|Winter|3163998|\n",
            "|Autumn|2648348|\n",
            "+------+-------+\n",
            "\n"
          ]
        }
      ]
    },
    {
      "cell_type": "code",
      "source": [
        "#computing the average duration for each season\n",
        "\n",
        "from pyspark.sql.functions import avg\n",
        "\n",
        "# Group by the \"Season\" column and calculate the sum of \"duration\" for each season\n",
        "season_duration_avg = merged_df.groupBy(\"Season\").agg(avg(\"Duration\").alias(\"Average Duration\"))\n",
        "\n",
        "# Display the season duration\n",
        "season_duration_avg.show()\n"
      ],
      "metadata": {
        "colab": {
          "base_uri": "https://localhost:8080/"
        },
        "id": "u3UTOvM23US2",
        "outputId": "a2771955-5638-44d2-f55f-c0fbf64732ba"
      },
      "execution_count": 20,
      "outputs": [
        {
          "output_type": "stream",
          "name": "stdout",
          "text": [
            "+------+------------------+\n",
            "|Season|  Average Duration|\n",
            "+------+------------------+\n",
            "|Summer| 1591.169636012757|\n",
            "|Spring|1515.2960927167885|\n",
            "|Winter|1349.6579483969172|\n",
            "|Autumn|1352.4007267927025|\n",
            "+------+------------------+\n",
            "\n"
          ]
        }
      ]
    },
    {
      "cell_type": "code",
      "source": [
        "#visualizing the result of the average duration per season\n",
        "import matplotlib.pyplot as plt\n",
        "\n",
        "# Convert the season_duration DataFrame to Pandas DataFrame\n",
        "season_duration_avg_pandas = season_duration_avg.toPandas()\n",
        "\n",
        "# Plot the bar chart\n",
        "plt.bar(season_duration_avg_pandas[\"Season\"], season_duration_avg_pandas[\"Average Duration\"])\n",
        "plt.xlabel(\"Season\")\n",
        "plt.ylabel(\"Average Duration\")\n",
        "plt.title(\"Average Duration per Season\")\n",
        "plt.show()"
      ],
      "metadata": {
        "colab": {
          "base_uri": "https://localhost:8080/",
          "height": 472
        },
        "id": "W_TclOTwNJMf",
        "outputId": "93914a4f-d985-41ff-bb23-74d0f6baf2fa"
      },
      "execution_count": 21,
      "outputs": [
        {
          "output_type": "display_data",
          "data": {
            "text/plain": [
              "<Figure size 640x480 with 1 Axes>"
            ],
            "image/png": "[encoded data removed]"
          },
          "metadata": {}
        }
      ]
    },
    {
      "cell_type": "code",
      "source": [
        "#computing the total duration for each season\n",
        "from pyspark.sql.functions import sum\n",
        "\n",
        "\n",
        "# Group by the \"Season\" column and calculate the sum of \"duration\" for each season\n",
        "season_duration = merged_df.groupBy(\"Season\").agg(sum(\"Duration\").alias(\"Total Duration\"))\n",
        "\n",
        "# Display the season duration\n",
        "season_duration.show()\n",
        "\n",
        "season_duration_pandas = season_duration.toPandas()\n",
        "\n"
      ],
      "metadata": {
        "colab": {
          "base_uri": "https://localhost:8080/"
        },
        "id": "mMQCN_R6kK70",
        "outputId": "70e2f825-e573-495d-dfce-63d2e67bdd2b"
      },
      "execution_count": 33,
      "outputs": [
        {
          "output_type": "stream",
          "name": "stdout",
          "text": [
            "+------+--------------+\n",
            "|Season|Total Duration|\n",
            "+------+--------------+\n",
            "|Summer|    5162258700|\n",
            "|Spring|    3674491500|\n",
            "|Winter|    2597936340|\n",
            "|Autumn|    3581627760|\n",
            "+------+--------------+\n",
            "\n"
          ]
        }
      ]
    },
    {
      "cell_type": "code",
      "source": [
        "#visualizing the result of the total duration for each season\n",
        "import matplotlib.pyplot as plt\n",
        "\n",
        "# Convert the season_duration DataFrame to Pandas DataFrame\n",
        "season_duration_pandas = season_duration.toPandas()\n",
        "\n",
        "# Plot the bar chart\n",
        "plt.bar(season_duration_pandas[\"Season\"], season_duration_pandas[\"Total Duration\"])\n",
        "plt.xlabel(\"Season\")\n",
        "plt.ylabel(\"Total Duration\")\n",
        "plt.title(\"Total Duration by Season\")\n",
        "plt.show()"
      ],
      "metadata": {
        "colab": {
          "base_uri": "https://localhost:8080/",
          "height": 472
        },
        "id": "N2YkHeMBCn0P",
        "outputId": "1c8379ea-ac12-42a4-b450-e92994d7fee9"
      },
      "execution_count": 54,
      "outputs": [
        {
          "output_type": "display_data",
          "data": {
            "text/plain": [
              "<Figure size 640x480 with 1 Axes>"
            ],
            "image/png": "[encoded data removed]"
          },
          "metadata": {}
        }
      ]
    },
    {
      "cell_type": "code",
      "source": [
        "autumn_df = merged_df.filter(merged_df.Season == 'Autumn')\n",
        "autumn_durations = autumn_df.select(\"Duration\").rdd.flatMap(lambda x: x).collect()\n",
        "\n",
        "spring_df = merged_df.filter(merged_df.Season == 'Spring')\n",
        "spring_durations = spring_df.select(\"Duration\").rdd.flatMap(lambda x: x).collect()\n"
      ],
      "metadata": {
        "id": "GNsTEJOF1nwD"
      },
      "execution_count": 49,
      "outputs": []
    },
    {
      "cell_type": "code",
      "source": [
        "#calculating the test statistic and p-value\n",
        "import numpy as np\n",
        "from scipy.stats import t\n",
        "\n",
        "# Define the data\n",
        "#autumn_duration = np.array([1591.169636, 1352.400727])\n",
        "#spring_duration = np.array([1515.296093])\n",
        "\n",
        "# Calculate the sample means and standard deviations\n",
        "mean_autumn = np.mean(autumn_durations)\n",
        "mean_spring = np.mean(spring_durations)\n",
        "std_autumn = np.std(autumn_durations, ddof=1)\n",
        "std_spring = np.std(spring_durations, ddof=1)\n",
        "\n",
        "# Calculate the sample sizes\n",
        "n_autumn = len(autumn_durations)\n",
        "n_spring = len(spring_durations)\n",
        "\n",
        "# Calculate the degrees of freedom\n",
        "df = n_autumn + n_spring - 2\n",
        "\n",
        "# Calculate the standard error of the difference between means\n",
        "se_diff = np.sqrt((std_autumn**2 / n_autumn) + (std_spring**2 / n_spring))\n",
        "\n",
        "# Calculate the t-statistic\n",
        "t_statistic = (mean_autumn - mean_spring) / se_diff\n",
        "\n",
        "# Calculate the p-value\n",
        "p_value = 2 * (1 - t.cdf(np.abs(t_statistic), df))\n",
        "\n",
        "# Print the t-statistic and p-value\n",
        "print(\"t-statistic:\", t_statistic)\n",
        "print(\"p-value:\", p_value)\n"
      ],
      "metadata": {
        "colab": {
          "base_uri": "https://localhost:8080/"
        },
        "id": "kpeLb8ixw8zJ",
        "outputId": "6c607326-da3e-45fb-d483-a620b22c75e4"
      },
      "execution_count": 51,
      "outputs": [
        {
          "output_type": "stream",
          "name": "stdout",
          "text": [
            "t-statistic: -14.311998457362165\n",
            "p-value: 0.0\n"
          ]
        }
      ]
    },
    {
      "cell_type": "markdown",
      "source": [
        "**Decision criteria:**\n",
        "If the p-value is less than the significance level where the significance level is 0.05 (p-value < alpha), you reject the null hypothesis. This suggests that the observed data provides sufficient evidence to conclude that the parameter of interest is larger than the null hypothesis value.\n",
        "\n",
        "*Null hypothesis*: There is equal duration of riders in Autumn as well as Spring\n",
        "\n",
        "*Alternative hypothesis*: Duration of riders in Autumn is greater than in Spring "
      ],
      "metadata": {
        "id": "4YZuIEQ59O01"
      }
    },
    {
      "cell_type": "markdown",
      "source": [
        "**Decision:** Since the p-value is less than 0.05 (i.e. 0<0.05) is true. The null hypothesis is rejected. \n",
        "\n",
        "**Conclusion:** Riders ride for longer duration in autumn than in spring"
      ],
      "metadata": {
        "id": "ecnWQi6K_gMC"
      }
    }
  ]
}